{
 "cells": [
  {
   "cell_type": "code",
   "execution_count": 12,
   "metadata": {
    "collapsed": false
   },
   "outputs": [
    {
     "name": "stdout",
     "output_type": "stream",
     "text": [
      "172480000\n",
      "2200000\n",
      "w:  31360\n",
      "b:  40\n"
     ]
    }
   ],
   "source": [
    "import numpy as np\n",
    "\n",
    "train_features = np.zeros((55000, 784), dtype=np.float32)\n",
    "print(train_features.nbytes)\n",
    "\n",
    "train_labels = np.zeros((55000, 10), dtype=np.float32)\n",
    "print(train_labels.nbytes)\n",
    "\n",
    "weights = np.zeros((784, 10), dtype=np.float32)\n",
    "print(\"w: \", weights.nbytes)\n",
    "\n",
    "bias = np.zeros((10,), dtype=np.float32)\n",
    "print(\"b: \", bias.nbytes)\n"
   ]
  },
  {
   "cell_type": "code",
   "execution_count": null,
   "metadata": {
    "collapsed": true
   },
   "outputs": [],
   "source": []
  }
 ],
 "metadata": {
  "kernelspec": {
   "display_name": "Python 3",
   "language": "python",
   "name": "python3"
  },
  "language_info": {
   "codemirror_mode": {
    "name": "ipython",
    "version": 3
   },
   "file_extension": ".py",
   "mimetype": "text/x-python",
   "name": "python",
   "nbconvert_exporter": "python",
   "pygments_lexer": "ipython3",
   "version": "3.6.0"
  }
 },
 "nbformat": 4,
 "nbformat_minor": 2
}
